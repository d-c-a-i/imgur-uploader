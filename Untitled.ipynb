{
 "cells": [
  {
   "cell_type": "code",
   "execution_count": 64,
   "id": "8ee3129a",
   "metadata": {},
   "outputs": [
    {
     "name": "stdout",
     "output_type": "stream",
     "text": [
      "Uploading file /home/eecs/dcai/nex-code/mpi_fern/2.png\n",
      "File uploaded - see your image at https://i.imgur.com/mBc0YHP.png\n",
      "3 pairs in dictionary\n"
     ]
    }
   ],
   "source": [
    "import os\n",
    "os.environ['IMGUR_API_ID'] = '0d4dc919efcaddc'\n",
    "os.environ['IMGUR_API_SECRET'] = '8d2d238456fb2bfef70b850a31798fdd3fba647e'\n",
    "! python imgur_uploader.py /home/eecs/dcai/nex-code/mpi_fern/2.png /home/eecs/dcai/match_dic.npy"
   ]
  },
  {
   "cell_type": "code",
   "execution_count": 55,
   "id": "62a1adeb",
   "metadata": {},
   "outputs": [],
   "source": [
    "import numpy as np"
   ]
  },
  {
   "cell_type": "code",
   "execution_count": 63,
   "id": "9726754b",
   "metadata": {},
   "outputs": [
    {
     "data": {
      "text/plain": [
       "3"
      ]
     },
     "execution_count": 63,
     "metadata": {},
     "output_type": "execute_result"
    }
   ],
   "source": [
    "len(np.load('/home/eecs/dcai/match_dic.npy',allow_pickle=True)[()].keys())"
   ]
  },
  {
   "cell_type": "code",
   "execution_count": 20,
   "id": "1b7fd25e",
   "metadata": {},
   "outputs": [
    {
     "name": "stdout",
     "output_type": "stream",
     "text": [
      "/home/eecs/dcai/imgur-uploader\r\n"
     ]
    }
   ],
   "source": [
    "!pwd"
   ]
  },
  {
   "cell_type": "code",
   "execution_count": 21,
   "id": "d704d80d",
   "metadata": {},
   "outputs": [],
   "source": [
    "np.save('/home/eecs/dcai/match_dic.npy', match_dic)"
   ]
  },
  {
   "cell_type": "code",
   "execution_count": 24,
   "id": "7a038322",
   "metadata": {},
   "outputs": [],
   "source": [
    "path = '/home/eecs/dcai/match_dic.npy'\n",
    "if os.path.isfile(path):\n",
    "    dic = np.load(path,allow_pickle=True)[()]\n",
    "    "
   ]
  },
  {
   "cell_type": "code",
   "execution_count": null,
   "id": "71701ebd",
   "metadata": {},
   "outputs": [],
   "source": []
  }
 ],
 "metadata": {
  "kernelspec": {
   "display_name": "Python (nerf)",
   "language": "python",
   "name": "nerf"
  },
  "language_info": {
   "codemirror_mode": {
    "name": "ipython",
    "version": 3
   },
   "file_extension": ".py",
   "mimetype": "text/x-python",
   "name": "python",
   "nbconvert_exporter": "python",
   "pygments_lexer": "ipython3",
   "version": "3.7.12"
  }
 },
 "nbformat": 4,
 "nbformat_minor": 5
}
